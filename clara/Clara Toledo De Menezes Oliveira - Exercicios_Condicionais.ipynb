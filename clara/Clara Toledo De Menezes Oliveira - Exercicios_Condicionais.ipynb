{
 "cells": [
  {
   "cell_type": "markdown",
   "id": "633160a3",
   "metadata": {},
   "source": [
    "### 📝Lista de Exercícios: Condicionais IF/ELSE"
   ]
  },
  {
   "cell_type": "markdown",
   "id": "605d2a7e",
   "metadata": {},
   "source": [
    "Exercício 1 - Maioridade 🔞\n",
    "\n",
    "Crie um programa que pergunta a idade do usuário e diz se ele é maior ou menor de idade."
   ]
  },
  {
   "cell_type": "code",
   "execution_count": null,
   "id": "93ea230f",
   "metadata": {},
   "outputs": [
    {
     "name": "stdout",
     "output_type": "stream",
     "text": [
      "menor de idade\n"
     ]
    }
   ],
   "source": [
    "idade = int(input(\"Quantos anos você tem? \"))\n",
    "if idade >= 18 :    \n",
    " print(\"maior de idade\")\n",
    "else:\n",
    " print(\"menor de idade\")\n",
    "\n",
    "\n",
    "\n",
    "Exercício 2 - Aprovação na Prova 🧠\n",
    "\n",
    "Faça um programa que pergunte a nota de um aluno (0 a 10) e diz se ele foi aprovado(nota >= 5) ou reprovado (nota <5)."
   ]
  },
  {
   "cell_type": "code",
   "execution_count": null,
   "id": "4a9f8f8b",
   "metadata": {},
   "outputs": [
    {
     "name": "stdout",
     "output_type": "stream",
     "text": [
      "vc foi aprovado\n"
     ]
    }
   ],
   "source": [
    "nota = float(input(\"Informe a sua nota de (0 a 10)\"))\n",
    "if nota >= 5:\n",
    " print(\"vc foi aprovado\") \n",
    "else :\n",
    " print(\"vc foi reprovado\")"
   ]
  },
  {
   "cell_type": "markdown",
   "id": "9f8e9b92",
   "metadata": {},
   "source": [
    "Exercicio 3 - CNH 🚘🚙\n",
    "\n",
    " 1º - Peça ao usuário que digite a idade dele.\n",
    "\n",
    " 2º - Peça pra ele dizer se foi aprovado ou reprovado no curso de cnh.\n",
    "\n",
    " 3º - Use if e else para verificar se ele tem 18 anos ou mais e se foi aprovado.\n",
    "\n",
    " 4º - Se as condições do passo 3 estiverem certas, print(\"pode dirigir\").\n",
    " \n",
    " 5º - Se não print(\"vai andar a pé\")"
   ]
  },
  {
   "cell_type": "code",
   "execution_count": 36,
   "id": "bee9f043",
   "metadata": {},
   "outputs": [
    {
     "name": "stdout",
     "output_type": "stream",
     "text": [
      "vc pode dirigir \n"
     ]
    }
   ],
   "source": [
    "### Seu código aqui\n",
    "idade = int(input(\"quantos anos vc tem ?\"))\n",
    "curso_cnh = input( \"vc foi aprovado no curso de CNH\")\n",
    "if idade >18 and curso_cnh == \"sim\":\n",
    "     print (\"vc pode dirigir\")\n",
    "else:\n",
    "      print(\"vc pode dirigir \")"
   ]
  },
  {
   "cell_type": "markdown",
   "id": "e9c60d12",
   "metadata": {},
   "source": [
    "Exercício 4 - Calculadora de Desconto. 💵 🤑\n",
    "\n",
    "Uma loja dá 10% de desconto para compras acima de R$ 100,00. Faça um programa que:\n",
    "\n",
    "1º - Pergunta o valor da compra.\n",
    "\n",
    "2º - Calcula o valor final com desconto (se aplicável).\n",
    "\n",
    "3º - Mostra o valor a pagar."
   ]
  },
  {
   "cell_type": "code",
   "execution_count": 42,
   "id": "5edc8855",
   "metadata": {},
   "outputs": [
    {
     "name": "stdout",
     "output_type": "stream",
     "text": [
      "voce tera desconto,no valor de 10%\n"
     ]
    }
   ],
   "source": [
    "### Seu código aqui\n",
    "valor= float(input(\"qual o valor da sua compra?\"))\n",
    "desconto=valor*0.10\n",
    "valor_final = valor - desconto\n",
    "if valor>=100:\n",
    "    print (\"voce tera desconto,no valor de 10%\")\n",
    "else:\n",
    "    print (\"voce nao tera o desconto\")\n"
   ]
  },
  {
   "cell_type": "markdown",
   "id": "ec96b43c",
   "metadata": {},
   "source": [
    "Exercício 5 - Classificação de Notas 🧑‍🎓\n",
    "\n",
    "Pergunte a nota de um aluno e dependendo da nota que ele informar, o classifique de acordo com as regras abaixo:\n",
    "\n",
    "Classifique a nota do aluno:\n",
    "\n",
    "- 9 até 10: \"Excelente\"\n",
    "\n",
    "- 7 até 8.9: \"Bom\"\n",
    "\n",
    "- 5 até 6.9: \"Regular\"\n",
    "\n",
    "- 0 até 4.9: \"Reprovado\"\n",
    "\n",
    "mostre para o aluno a classificação dele através de um print, exemplo print(\"Excelente\")."
   ]
  },
  {
   "cell_type": "markdown",
   "id": "4afeea90",
   "metadata": {},
   "source": []
  },
  {
   "cell_type": "code",
   "execution_count": 1,
   "id": "429d5dee",
   "metadata": {},
   "outputs": [
    {
     "name": "stdout",
     "output_type": "stream",
     "text": [
      "exelente\n"
     ]
    }
   ],
   "source": [
    "nota = float(input(\"qual a sua nota ?:\"))\n",
    "if nota >=9 and nota <=10:\n",
    "    print(\"exelente\")\n",
    "elif nota >=7 and nota <= 8.9:\n",
    "    print (\" bom \")\n",
    "elif nota >=5 and nota <= 6.9:\n",
    "    print (\"regular\")\n",
    "else:\n",
    "    print (\"reprovado\")\n"
   ]
  },
  {
   "cell_type": "markdown",
   "id": "251b0fa7",
   "metadata": {},
   "source": [
    "Exercício 6 - Acesso ao Sistema 🔑\n",
    "\n",
    "Crie um login simples:\n",
    "\n",
    "- usuario_correto = \"admin\"\n",
    "\n",
    "- senha_correta = \"1234\"\n",
    "\n",
    "**Peça para o usuário digitar primeiro o login e depois a senha, caso login e senha estejam corretos programa deve mostrar \"Acesso permitido\" se não \"Acesso negado\"**\n"
   ]
  },
  {
   "cell_type": "code",
   "execution_count": 47,
   "id": "7fcf16db",
   "metadata": {},
   "outputs": [
    {
     "name": "stdout",
     "output_type": "stream",
     "text": [
      "acesso permitido, bem vindo ao sistema admin\n"
     ]
    }
   ],
   "source": [
    "usuario_correto = \"admin\"\n",
    "senha_correta = 1234\n",
    "\n",
    "login= input(\"qual o seu login/usuario?\")\n",
    "senha = int(input(\"digite a sua senha:\"))\n",
    "\n",
    "if login == usuario_correto and senha == senha_correta:\n",
    "     print(f\"acesso permitido, bem vindo ao sistema {login}\")\n",
    "else:\n",
    "     print(\"acesso negado\")"
   ]
  },
  {
   "cell_type": "markdown",
   "id": "46c27406",
   "metadata": {},
   "source": [
    "Exercício 7 - Maior Número 📉\n",
    "\n",
    "Peça 3 números e mostre qual é o maior deles."
   ]
  },
  {
   "cell_type": "code",
   "execution_count": 3,
   "id": "916439ff",
   "metadata": {},
   "outputs": [
    {
     "name": "stdout",
     "output_type": "stream",
     "text": [
      " o maior numero é o 3.0\n"
     ]
    }
   ],
   "source": [
    "primeiro_numero = float(input(\"digite o primeiro numero\"))\n",
    "segundo_numero = float(input(\" digite o segundo numero \"))\n",
    "terceiro_numero = float(input(\"digite o terceiro numero\"))\n",
    "\n",
    "if primeiro_numero > segundo_numero and primeiro_numero > terceiro_numero:\n",
    "    print (f\"o maior numero e o {primeiro_numero}\")\n",
    "elif segundo_numero > primeiro_numero and  segundo_numero  > terceiro_numero :\n",
    "   print(F\" o maior numero e o {segundo_numero}\")\n",
    "else:\n",
    "     print (F\" o maior numero é o {terceiro_numero}\")"
   ]
  },
  {
   "cell_type": "markdown",
   "id": "984fe0fe",
   "metadata": {},
   "source": [
    "Exercício 8 - Dia da Semana\n",
    "Peça um número de 1 a 7 e mostre o dia da semana correspondente: 📅\n",
    "\n",
    "- 1: Domingo\n",
    "\n",
    "- 2: Segunda\n",
    "\n",
    "- ... até 7: Sábado"
   ]
  },
  {
   "cell_type": "code",
   "execution_count": 4,
   "id": "f34c6fbf",
   "metadata": {},
   "outputs": [
    {
     "name": "stdout",
     "output_type": "stream",
     "text": [
      " o dia escolhido foi quinta\n"
     ]
    }
   ],
   "source": [
    "numero = int(input(\" digite um numero de 1 a 7 \"))\n",
    "\n",
    "if numero == 1:\n",
    "    print (\"o dia escolhido foi domingo\")\n",
    "elif numero == 2:\n",
    "    print (\"o dia escolhido foi segunda\")\n",
    "elif numero ==3:\n",
    "    print (\"o dia escolhido foi terça\")\n",
    "elif numero ==4:\n",
    "    print (\" o dia escolhido foi quarta \")\n",
    "elif numero ==5:\n",
    "    print(\" o dia escolhido foi quinta\")\n",
    "elif numero ==6: \n",
    "     print(\" o dia escolhido foi sexta\")\n",
    "elif numero ==7:\n",
    "    print (\" o dia escolhido foi sabado\")"
   ]
  },
  {
   "cell_type": "markdown",
   "id": "f1f760b7",
   "metadata": {},
   "source": [
    "Exercício 9 - Calculadora Simples 📏📐\n",
    "\n",
    "- Faça uma calculadora que:\n",
    "\n",
    "- Pede dois números\n",
    "\n",
    "- Pede a operação (+, -, *, /)\n",
    "\n",
    "- Dependendo da operação mostre o resultado.\n",
    "\n"
   ]
  },
  {
   "cell_type": "code",
   "execution_count": 5,
   "id": "c943995f",
   "metadata": {},
   "outputs": [],
   "source": [
    "\n",
    "num1= float(input(\"qual é o primeiro numero?\"))\n",
    "num2= float(input(\" qual o segundo numero ?\"))\n",
    "operação= (input(\" qual operação vc quer fazer?\"))\n",
    "\n",
    "soma= num1+num2\n",
    "menos= num1+num2\n",
    "multiplicação= num1*num2 \n",
    "divisão= num1/num2\n",
    "if operação== \"+\":\n",
    "    print(f\" a soma dos dois numeros deu{soma}\")\n",
    "elif operação == \"-\":\n",
    "    print(F\"a subtração dos dois numeros deu {menos}\")\n",
    "elif operação== \"*\":\n",
    "    print(F\" a multiplicação dos dois numeros deu {multiplicação}\")\n",
    "elif operação== \"/\":\n",
    "    print(F\" a divisao dos dois numeros deu {divisão}\")\n"
   ]
  },
  {
   "cell_type": "markdown",
   "id": "f39f6b73",
   "metadata": {},
   "source": [
    "Exercício 10 - Sistema de Multas 🚙🚘🧾\n",
    "\n",
    "\n",
    "- Velocidade máxima: 80 km/h 🚫\n",
    "\n",
    "- Até 80: \"Sem multa\"\n",
    "\n",
    "- 81-100: \"Multa leve\"\n",
    "\n",
    "- Acima de 100: \"Multa grave\""
   ]
  },
  {
   "cell_type": "code",
   "execution_count": 6,
   "id": "20fdc977",
   "metadata": {},
   "outputs": [
    {
     "name": "stdout",
     "output_type": "stream",
     "text": [
      "vc ultrapassoucompletamente da velocidade permitida,multa grave.\n"
     ]
    }
   ],
   "source": [
    "velocidade= int(input(\"qual foi a sua velocidade na pista?\"))\n",
    "if velocidade > 70 and velocidade <=80:\n",
    "    print(\"vc esta dentro da velocidade permitida,sem multa\")\n",
    "elif velocidade  >81 and velocidade <=100:\n",
    "    print(\"vc ultrapassou a velocidade permitida.multa leve.\")\n",
    "else:\n",
    "    print(\"vc ultrapassoucompletamente da velocidade permitida,multa grave.\")"
   ]
  }
 ],
 "metadata": {
  "kernelspec": {
   "display_name": "Python 3",
   "language": "python",
   "name": "python3"
  },
  "language_info": {
   "codemirror_mode": {
    "name": "ipython",
    "version": 3
   },
   "file_extension": ".py",
   "mimetype": "text/x-python",
   "name": "python",
   "nbconvert_exporter": "python",
   "pygments_lexer": "ipython3",
   "version": "3.13.2"
  }
 },
 "nbformat": 4,
 "nbformat_minor": 5
}
