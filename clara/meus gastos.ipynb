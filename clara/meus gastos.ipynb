{
 "cells": [
  {
   "cell_type": "markdown",
   "id": "7acca420",
   "metadata": {},
   "source": [
    "### Clt"
   ]
  },
  {
   "cell_type": "code",
   "execution_count": null,
   "id": "15276050",
   "metadata": {},
   "outputs": [],
   "source": [
    "salario = 1200\n",
    "gasolina = 200\n",
    "internet = 200\n",
    "alimento = 1500\n",
    "agua = 100\n",
    "luz = 300\n",
    "condominio = 570\n",
    "entreterimento = 1200\n",
    "quanto_sobra ='"
   ]
  },
  {
   "cell_type": "markdown",
   "id": "8c4de629",
   "metadata": {},
   "source": [
    "### Clt"
   ]
  },
  {
   "cell_type": "code",
   "execution_count": 5,
   "id": "3d865d5c",
   "metadata": {},
   "outputs": [],
   "source": [
    "salario = 20000\n",
    "gasolina =3000\n",
    "internet = 200\n",
    "alimento = 3000\n",
    "agua =1500\n",
    "luz =2500\n",
    "condominio =600\n",
    "entreterimento = 1300\n",
    "total_gasto = + internet +- gasolina + alimento + agua + luz + condominio + entreterimento\n",
    "quanto_sobra = salario - total_gasto \n"
   ]
  }
 ],
 "metadata": {
  "kernelspec": {
   "display_name": "Python 3",
   "language": "python",
   "name": "python3"
  },
  "language_info": {
   "codemirror_mode": {
    "name": "ipython",
    "version": 3
   },
   "file_extension": ".py",
   "mimetype": "text/x-python",
   "name": "python",
   "nbconvert_exporter": "python",
   "pygments_lexer": "ipython3",
   "version": "3.13.2"
  }
 },
 "nbformat": 4,
 "nbformat_minor": 5
}
